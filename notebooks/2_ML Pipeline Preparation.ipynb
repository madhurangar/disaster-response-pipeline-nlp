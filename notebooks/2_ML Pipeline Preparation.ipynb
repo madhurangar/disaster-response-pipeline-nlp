{
 "cells": [
  {
   "cell_type": "markdown",
   "metadata": {},
   "source": [
    "# ML Pipeline Preparation\n",
    "Follow the instructions below to help you create your ML pipeline.\n",
    "### 1. Import libraries and load data from database.\n",
    "- Import Python libraries\n",
    "- Load dataset from database with [`read_sql_table`](https://pandas.pydata.org/pandas-docs/stable/generated/pandas.read_sql_table.html)\n",
    "- Define feature and target variables X and Y"
   ]
  },
  {
   "cell_type": "code",
   "execution_count": 1,
   "metadata": {},
   "outputs": [],
   "source": [
    "# import libraries\n",
    "import pandas as pd\n",
    "import numpy as np\n",
    "import re, unicodedata, pickle\n",
    "from sqlalchemy import create_engine\n",
    "import utils"
   ]
  },
  {
   "cell_type": "code",
   "execution_count": null,
   "metadata": {},
   "outputs": [],
   "source": [
    "# download nltk libraries\n",
    "import nltk\n",
    "nltk.download(['punkt', 'wordnet', 'stopwords'])"
   ]
  },
  {
   "cell_type": "code",
   "execution_count": 2,
   "metadata": {},
   "outputs": [],
   "source": [
    "from nltk.tokenize import word_tokenize\n",
    "from nltk.corpus import stopwords\n",
    "from nltk.stem.porter import PorterStemmer\n",
    "from nltk.stem.wordnet import WordNetLemmatizer"
   ]
  },
  {
   "cell_type": "code",
   "execution_count": 3,
   "metadata": {},
   "outputs": [],
   "source": [
    "from sklearn.pipeline import Pipeline\n",
    "from sklearn.multioutput import MultiOutputClassifier\n",
    "\n",
    "from sklearn.model_selection import train_test_split, GridSearchCV\n",
    "from sklearn.feature_extraction.text import CountVectorizer, TfidfTransformer\n",
    "from sklearn.ensemble import RandomForestClassifier\n",
    "\n",
    "from sklearn.metrics import classification_report, f1_score, make_scorer"
   ]
  },
  {
   "cell_type": "code",
   "execution_count": 4,
   "metadata": {},
   "outputs": [],
   "source": [
    "# load data from database\n",
    "engine = create_engine('sqlite:///CategorisedMessages.db')\n",
    "df = pd.read_sql_table(\"Messages\", engine)\n",
    "X = df['message'].values\n",
    "Y = df[df.columns.difference(['id', 'message', 'original', 'genre'])] # all columns except these 4"
   ]
  },
  {
   "cell_type": "code",
   "execution_count": 10,
   "metadata": {},
   "outputs": [
    {
     "data": {
      "text/plain": [
       "pandas.core.indexes.base.Index"
      ]
     },
     "execution_count": 10,
     "metadata": {},
     "output_type": "execute_result"
    }
   ],
   "source": [
    "type(Y.columns)"
   ]
  },
  {
   "cell_type": "markdown",
   "metadata": {},
   "source": [
    "### 2. Write a tokenization function to process your text data\n",
    "\n",
    "Each twitter message needs to be \n",
    " - Clean: remove urls and punctuation marks, symbols etc...\n",
    " - Normalise\n",
    " - Tokenise\n",
    " - Stop word removal\n",
    " - Part of Speech Tagging and Named Entity Recognition\n",
    " - Stemming and Lemmatization"
   ]
  },
  {
   "cell_type": "code",
   "execution_count": 18,
   "metadata": {},
   "outputs": [
    {
     "name": "stdout",
     "output_type": "stream",
     "text": [
      "Detected: [' ', 'a']: Index=9949\n",
      "Source: Haitians in U.S. watch earthquake #news and worry http bit.ly 6PkPGv News #CNN favorited false in_reply_to_user_id null in_reply_to_status_id null in_reply_to_screen_name null source <a href= http ping.fm rel= nofollow >Ping.fm< a>\n",
      "Detected: [' ', 'a']: Index=9984\n",
      "Source: RT compassion Donate to our Disaster Relief Fund to help those affected by the Haiti earthquake http bit.ly 6l9Xhv favorited false in_reply_to_user_id null in_reply_to_status_id null in_reply_to_screen_name null source <a href= http www.tweetdeck.com rel= nofollow >TweetDeck< a>\n",
      "Detected: ['(']: Index=23651\n",
      "Source: Observe strict hygienic practice namely; wash hands every time before eating and during food preparation, clean and disinfect every surfaces and utensils used for cooking, store cooked food separate from fresh food, cooking the food thoroughly and store cooked food in appropriate temperature, do not left cooked food in the room temperature more than 2 hours, keep cooked and perishable food in the refrigerator (<5° C), and reheat cooked food before eating (>60°C).\n",
      "Total: 3\n"
     ]
    }
   ],
   "source": [
    "# check for html tags\n",
    "utils.run_regex(X, utils.regex_html_tag, pout=-1)"
   ]
  },
  {
   "cell_type": "markdown",
   "metadata": {},
   "source": [
    "These 3 data points should be fixed or removed!"
   ]
  },
  {
   "cell_type": "code",
   "execution_count": 19,
   "metadata": {},
   "outputs": [
    {
     "name": "stdout",
     "output_type": "stream",
     "text": [
      "Detected: ['http://www.jobpaw.com/']: Index=5026\n",
      "Source: If you want to find a Job at an NGO or the Government, upload your resume at http://www.jobpaw.com/ \n",
      "Detected: ['http://welcome.topuertorico.org/government.shtml']: Index=5296\n",
      "Source: NOTES: WHAT A JERK ,ALL HAITIANS DONT HAVE ANYTHING TO EAT ,AND ''HE'' ORDERING 3 DAYS WITHOUT FOOD LIKE SUPPORT FOR THOSE WITHOUT FOOD? http://welcome.topuertorico.org/government.shtml\n",
      "Detected: ['http://wap.sina.comhttp://wap.sina.com']: Index=7343\n",
      "Source: http://wap.sina.comhttp://wap.sina.com \n",
      "Detected: ['http://ea.mobile.nokia.com/ea/graphics']: Index=8850\n",
      "Source: Nokia.com http://ea.mobile.nokia.com/ea/graphics \n",
      "Detected: ['http://172.16.3.136/mymain2.php', 'http://172.16.3.136/mymain2.php']: Index=9723\n",
      "Source: BEGIN:VBKM VERSION:1.0 TITLE:Digicel Live Ha URL:http://172.16.3.136/mymain2.php BEGIN:ENV X-IRMC-URLQUOTED-PRINTABLE: InternetShortcut  URLhttp://172.16.3.136/mymain2.php END:ENV END:VBKM  \n",
      "Total: 669\n"
     ]
    }
   ],
   "source": [
    "# check for urls\n",
    "utils.run_regex(X, utils.regex_url, pout=5)"
   ]
  },
  {
   "cell_type": "code",
   "execution_count": 20,
   "metadata": {},
   "outputs": [
    {
     "name": "stdout",
     "output_type": "stream",
     "text": [
      "Detected at Index=10634\n",
      "Source: Clothes ( men 's , women , s girls 6-8 , baby 0-6 ) . Some blankets , canned food , baby formula , a baby bottle , soap , toothpaste .. . Looking for more stuff . I can also donate frozen homemade baby food , it 's all veg/fruit pur‚àö¬©e frozen into cubes .\n",
      "Detected at Index=11219\n",
      "Source: @meliithebest26 JUAA F #UCK SANDY I GOT MY PL‚àö√ÖTANOS AND AREPAS READY : D you already know how i am with food : D\n",
      "Total: 263\n"
     ]
    }
   ],
   "source": [
    "# check accented unicode characters\n",
    "utils.check_accented_chars(X, pout=2)"
   ]
  },
  {
   "cell_type": "code",
   "execution_count": 17,
   "metadata": {},
   "outputs": [
    {
     "data": {
      "text/plain": [
       "array([0, 1, 2])"
      ]
     },
     "execution_count": 17,
     "metadata": {},
     "output_type": "execute_result"
    }
   ],
   "source": [
    "# TODO: check if there are labels except 0 and 1\n",
    "np.unique(Y)\n",
    "# Y.related.loc[(Y['related']==2)] = 1\n",
    "# Y.related[Y['related']==2]"
   ]
  },
  {
   "cell_type": "code",
   "execution_count": 9,
   "metadata": {},
   "outputs": [],
   "source": [
    "# TODO: check for data with no labels"
   ]
  },
  {
   "cell_type": "markdown",
   "metadata": {},
   "source": [
    "Twitter messages contain \n",
    " - urls\n",
    " - special / accented characters\n",
    "\n",
    "Must clean these in or before tokenisation. \n",
    "\n",
    "NOTE: Should we?\n",
    "- Expand contracted words (i.e I'm -> I am)\n",
    "- Annotate text with PoS tags"
   ]
  },
  {
   "cell_type": "code",
   "execution_count": 7,
   "metadata": {},
   "outputs": [],
   "source": [
    "def tokenize(text:str)->list:\n",
    "    # remove html tags\n",
    "    text = unicodedata.normalize('NFKD', text).encode('ascii', 'ignore').decode('utf8') # get rid of accented chars\n",
    "    text = text.lower() # convert to lowercase\n",
    "    text = re.sub(utils.regex_url, \"urlplaceholder\", text) # remove urls\n",
    "    text = re.sub(utils.regex_non_alphanumeric, \" \", text) # remove everything not letters or numbers\n",
    "    tokens = word_tokenize(text) # tokenize words\n",
    "    words = [w for w in tokens if w not in stopwords.words(\"english\")] # remove stopwords\n",
    "    # TODO: Improve lemmatization and stemming\n",
    "    lemmed = [WordNetLemmatizer().lemmatize(w, pos='v') for w in words] # Lemmatize verbs by specifying pos\n",
    "    stem_words = [PorterStemmer().stem(w) for w in lemmed] # Reduce words in lemmed to their stems\n",
    "    \n",
    "    return stem_words"
   ]
  },
  {
   "cell_type": "markdown",
   "metadata": {},
   "source": [
    "Test tokenisation"
   ]
  },
  {
   "cell_type": "code",
   "execution_count": 8,
   "metadata": {},
   "outputs": [
    {
     "name": "stdout",
     "output_type": "stream",
     "text": [
      "Weather update - a cold front from Cuba that could pass over Haiti\n"
     ]
    },
    {
     "data": {
      "text/plain": [
       "['weather', 'updat', 'cold', 'front', 'cuba', 'could', 'pass', 'haiti']"
      ]
     },
     "execution_count": 8,
     "metadata": {},
     "output_type": "execute_result"
    }
   ],
   "source": [
    "text = X[0]\n",
    "print(text)\n",
    "tokenize(text)"
   ]
  },
  {
   "cell_type": "markdown",
   "metadata": {},
   "source": [
    "### 3. Build a machine learning pipeline\n",
    "This machine pipeline should take in the `message` column as input and output classification results on the other 36 categories in the dataset. You may find the [MultiOutputClassifier](http://scikit-learn.org/stable/modules/generated/sklearn.multioutput.MultiOutputClassifier.html) helpful for predicting multiple target variables."
   ]
  },
  {
   "cell_type": "code",
   "execution_count": 8,
   "metadata": {},
   "outputs": [],
   "source": [
    "pipeline = Pipeline([\n",
    "    ('vect', CountVectorizer(tokenizer=tokenize)),\n",
    "    ('tfidf', TfidfTransformer()),\n",
    "    ('clf', MultiOutputClassifier(RandomForestClassifier(), \n",
    "                                  n_jobs=-1))\n",
    "    ])"
   ]
  },
  {
   "cell_type": "markdown",
   "metadata": {},
   "source": [
    "### 4. Train pipeline\n",
    "- Split data into train and test sets\n",
    "- Train pipeline"
   ]
  },
  {
   "cell_type": "code",
   "execution_count": null,
   "metadata": {},
   "outputs": [],
   "source": [
    "X_train, X_test, y_train, y_test = train_test_split(X,Y)\n",
    "pipeline.fit(X_train, y_train)\n",
    "y_pred = pipeline.predict(X_test)"
   ]
  },
  {
   "cell_type": "code",
   "execution_count": 14,
   "metadata": {},
   "outputs": [
    {
     "name": "stdout",
     "output_type": "stream",
     "text": [
      "X_test[100] = Stay tuned to CBS47 This Morning for updates on Haitian earthquake recovery efforts.. and storm updates. Have a good night Zara\n",
      "columnname:predicted(label)\n",
      "earthquake:1(1) infrastructure_related:0(1) other_infrastructure:0(1) related:1(1) storm:1(1) weather_related:1(1) \n"
     ]
    }
   ],
   "source": [
    "utils.compare_test_train(100, X_test, y_test, y_pred)"
   ]
  },
  {
   "cell_type": "markdown",
   "metadata": {},
   "source": [
    "### 5. Test your model\n",
    "Report the f1 score, precision and recall for each output category of the dataset. You can do this by iterating through the columns and calling sklearn's `classification_report` on each."
   ]
  },
  {
   "cell_type": "code",
   "execution_count": 15,
   "metadata": {},
   "outputs": [
    {
     "name": "stdout",
     "output_type": "stream",
     "text": [
      "buildings\n",
      "              precision    recall  f1-score   support\n",
      "\n",
      "           0       0.95      1.00      0.98      6220\n",
      "           1       0.72      0.11      0.20       334\n",
      "\n",
      "    accuracy                           0.95      6554\n",
      "   macro avg       0.84      0.56      0.59      6554\n",
      "weighted avg       0.94      0.95      0.94      6554\n",
      "\n"
     ]
    }
   ],
   "source": [
    "col = 2\n",
    "print(y_test.columns[col])\n",
    "print(classification_report(y_test.iloc[:,col].values, y_pred[:,col]))"
   ]
  },
  {
   "cell_type": "markdown",
   "metadata": {},
   "source": [
    "Since this is a classification task, both the precision and recall is important. Just by looking at `classification_report` we can see that value `0` has predicted very well. Looking at statistics vast majority of data is labeled as `0`. there's definitly a bias towards the data labeled as `0`. Therefor, to get a good balance between precision and recall, it's better to use the **macro average of f1-score** as the scoring metric. "
   ]
  },
  {
   "cell_type": "code",
   "execution_count": 16,
   "metadata": {},
   "outputs": [
    {
     "data": {
      "text/plain": [
       "0.6177008663917776"
      ]
     },
     "execution_count": 16,
     "metadata": {},
     "output_type": "execute_result"
    }
   ],
   "source": [
    "# model score\n",
    "utils.model_score(y_test, y_pred)"
   ]
  },
  {
   "cell_type": "markdown",
   "metadata": {},
   "source": [
    "Current model has an average f1-score of 0.61. This needs to be improved!"
   ]
  },
  {
   "cell_type": "code",
   "execution_count": 17,
   "metadata": {},
   "outputs": [
    {
     "data": {
      "text/html": [
       "<style type=\"text/css\">\n",
       "#T_15def_row0_col0, #T_15def_row0_col1, #T_15def_row0_col2, #T_15def_row14_col2, #T_15def_row18_col0, #T_15def_row18_col1, #T_15def_row18_col2, #T_15def_row20_col0, #T_15def_row20_col1, #T_15def_row20_col2, #T_15def_row21_col2, #T_15def_row22_col0, #T_15def_row22_col1, #T_15def_row22_col2, #T_15def_row28_col0, #T_15def_row28_col1, #T_15def_row28_col2, #T_15def_row30_col0, #T_15def_row30_col1, #T_15def_row30_col2, #T_15def_row32_col0, #T_15def_row32_col1, #T_15def_row32_col2 {\n",
       "  background-color: #993414;\n",
       "}\n",
       "#T_15def_row0_col3, #T_15def_row1_col0, #T_15def_row1_col1, #T_15def_row1_col2, #T_15def_row1_col3, #T_15def_row2_col0, #T_15def_row2_col3, #T_15def_row3_col0, #T_15def_row3_col1, #T_15def_row3_col2, #T_15def_row3_col3, #T_15def_row4_col0, #T_15def_row4_col3, #T_15def_row5_col0, #T_15def_row5_col3, #T_15def_row6_col0, #T_15def_row6_col3, #T_15def_row7_col0, #T_15def_row7_col3, #T_15def_row8_col0, #T_15def_row8_col1, #T_15def_row8_col2, #T_15def_row8_col3, #T_15def_row9_col0, #T_15def_row9_col3, #T_15def_row10_col0, #T_15def_row10_col3, #T_15def_row11_col0, #T_15def_row11_col1, #T_15def_row11_col2, #T_15def_row11_col3, #T_15def_row12_col0, #T_15def_row12_col1, #T_15def_row12_col2, #T_15def_row12_col3, #T_15def_row13_col0, #T_15def_row13_col3, #T_15def_row14_col3, #T_15def_row15_col0, #T_15def_row15_col3, #T_15def_row16_col0, #T_15def_row16_col3, #T_15def_row17_col0, #T_15def_row17_col3, #T_15def_row18_col3, #T_15def_row19_col0, #T_15def_row19_col3, #T_15def_row20_col3, #T_15def_row21_col3, #T_15def_row22_col3, #T_15def_row23_col3, #T_15def_row24_col0, #T_15def_row24_col3, #T_15def_row25_col0, #T_15def_row25_col3, #T_15def_row26_col0, #T_15def_row26_col2, #T_15def_row26_col3, #T_15def_row27_col0, #T_15def_row27_col3, #T_15def_row28_col3, #T_15def_row29_col0, #T_15def_row29_col3, #T_15def_row30_col3, #T_15def_row31_col0, #T_15def_row31_col1, #T_15def_row31_col2, #T_15def_row31_col3, #T_15def_row32_col3, #T_15def_row33_col0, #T_15def_row33_col3, #T_15def_row34_col0, #T_15def_row34_col3, #T_15def_row35_col0, #T_15def_row35_col1, #T_15def_row35_col2, #T_15def_row35_col3 {\n",
       "  background-color: #508104;\n",
       "}\n",
       "#T_15def_row2_col1, #T_15def_row2_col2, #T_15def_row4_col1, #T_15def_row4_col2, #T_15def_row5_col1, #T_15def_row5_col2, #T_15def_row6_col1, #T_15def_row6_col2, #T_15def_row7_col1, #T_15def_row7_col2, #T_15def_row9_col1, #T_15def_row9_col2, #T_15def_row10_col1, #T_15def_row10_col2, #T_15def_row13_col1, #T_15def_row13_col2, #T_15def_row14_col0, #T_15def_row14_col1, #T_15def_row15_col1, #T_15def_row15_col2, #T_15def_row16_col1, #T_15def_row16_col2, #T_15def_row17_col1, #T_15def_row17_col2, #T_15def_row19_col1, #T_15def_row19_col2, #T_15def_row21_col0, #T_15def_row21_col1, #T_15def_row23_col0, #T_15def_row23_col1, #T_15def_row23_col2, #T_15def_row24_col1, #T_15def_row24_col2, #T_15def_row25_col1, #T_15def_row25_col2, #T_15def_row26_col1, #T_15def_row27_col1, #T_15def_row27_col2, #T_15def_row29_col1, #T_15def_row29_col2, #T_15def_row33_col1, #T_15def_row33_col2, #T_15def_row34_col1, #T_15def_row34_col2 {\n",
       "  background-color: #cc5500;\n",
       "}\n",
       "</style>\n",
       "<table id=\"T_15def_\">\n",
       "  <thead>\n",
       "    <tr>\n",
       "      <th class=\"blank level0\" >&nbsp;</th>\n",
       "      <th class=\"col_heading level0 col0\" >precision</th>\n",
       "      <th class=\"col_heading level0 col1\" >recall</th>\n",
       "      <th class=\"col_heading level0 col2\" >f1-score</th>\n",
       "      <th class=\"col_heading level0 col3\" >accuracy</th>\n",
       "    </tr>\n",
       "  </thead>\n",
       "  <tbody>\n",
       "    <tr>\n",
       "      <th id=\"T_15def_level0_row0\" class=\"row_heading level0 row0\" >aid_centers</th>\n",
       "      <td id=\"T_15def_row0_col0\" class=\"data row0 col0\" >0.494202</td>\n",
       "      <td id=\"T_15def_row0_col1\" class=\"data row0 col1\" >0.500000</td>\n",
       "      <td id=\"T_15def_row0_col2\" class=\"data row0 col2\" >0.497084</td>\n",
       "      <td id=\"T_15def_row0_col3\" class=\"data row0 col3\" >0.988404</td>\n",
       "    </tr>\n",
       "    <tr>\n",
       "      <th id=\"T_15def_level0_row1\" class=\"row_heading level0 row1\" >aid_related</th>\n",
       "      <td id=\"T_15def_row1_col0\" class=\"data row1 col0\" >0.779454</td>\n",
       "      <td id=\"T_15def_row1_col1\" class=\"data row1 col1\" >0.769448</td>\n",
       "      <td id=\"T_15def_row1_col2\" class=\"data row1 col2\" >0.772875</td>\n",
       "      <td id=\"T_15def_row1_col3\" class=\"data row1 col3\" >0.782270</td>\n",
       "    </tr>\n",
       "    <tr>\n",
       "      <th id=\"T_15def_level0_row2\" class=\"row_heading level0 row2\" >buildings</th>\n",
       "      <td id=\"T_15def_row2_col0\" class=\"data row2 col0\" >0.891380</td>\n",
       "      <td id=\"T_15def_row2_col1\" class=\"data row2 col1\" >0.555878</td>\n",
       "      <td id=\"T_15def_row2_col2\" class=\"data row2 col2\" >0.587143</td>\n",
       "      <td id=\"T_15def_row2_col3\" class=\"data row2 col3\" >0.952090</td>\n",
       "    </tr>\n",
       "    <tr>\n",
       "      <th id=\"T_15def_level0_row3\" class=\"row_heading level0 row3\" >child_alone</th>\n",
       "      <td id=\"T_15def_row3_col0\" class=\"data row3 col0\" >1.000000</td>\n",
       "      <td id=\"T_15def_row3_col1\" class=\"data row3 col1\" >1.000000</td>\n",
       "      <td id=\"T_15def_row3_col2\" class=\"data row3 col2\" >1.000000</td>\n",
       "      <td id=\"T_15def_row3_col3\" class=\"data row3 col3\" >1.000000</td>\n",
       "    </tr>\n",
       "    <tr>\n",
       "      <th id=\"T_15def_level0_row4\" class=\"row_heading level0 row4\" >clothing</th>\n",
       "      <td id=\"T_15def_row4_col0\" class=\"data row4 col0\" >0.909782</td>\n",
       "      <td id=\"T_15def_row4_col1\" class=\"data row4 col1\" >0.571196</td>\n",
       "      <td id=\"T_15def_row4_col2\" class=\"data row4 col2\" >0.618370</td>\n",
       "      <td id=\"T_15def_row4_col3\" class=\"data row4 col3\" >0.985810</td>\n",
       "    </tr>\n",
       "    <tr>\n",
       "      <th id=\"T_15def_level0_row5\" class=\"row_heading level0 row5\" >cold</th>\n",
       "      <td id=\"T_15def_row5_col0\" class=\"data row5 col0\" >0.931463</td>\n",
       "      <td id=\"T_15def_row5_col1\" class=\"data row5 col1\" >0.552661</td>\n",
       "      <td id=\"T_15def_row5_col2\" class=\"data row5 col2\" >0.589359</td>\n",
       "      <td id=\"T_15def_row5_col3\" class=\"data row5 col3\" >0.980317</td>\n",
       "    </tr>\n",
       "    <tr>\n",
       "      <th id=\"T_15def_level0_row6\" class=\"row_heading level0 row6\" >death</th>\n",
       "      <td id=\"T_15def_row6_col0\" class=\"data row6 col0\" >0.951929</td>\n",
       "      <td id=\"T_15def_row6_col1\" class=\"data row6 col1\" >0.581700</td>\n",
       "      <td id=\"T_15def_row6_col2\" class=\"data row6 col2\" >0.629685</td>\n",
       "      <td id=\"T_15def_row6_col3\" class=\"data row6 col3\" >0.961398</td>\n",
       "    </tr>\n",
       "    <tr>\n",
       "      <th id=\"T_15def_level0_row7\" class=\"row_heading level0 row7\" >direct_report</th>\n",
       "      <td id=\"T_15def_row7_col0\" class=\"data row7 col0\" >0.820790</td>\n",
       "      <td id=\"T_15def_row7_col1\" class=\"data row7 col1\" >0.666439</td>\n",
       "      <td id=\"T_15def_row7_col2\" class=\"data row7 col2\" >0.702054</td>\n",
       "      <td id=\"T_15def_row7_col3\" class=\"data row7 col3\" >0.851388</td>\n",
       "    </tr>\n",
       "    <tr>\n",
       "      <th id=\"T_15def_level0_row8\" class=\"row_heading level0 row8\" >earthquake</th>\n",
       "      <td id=\"T_15def_row8_col0\" class=\"data row8 col0\" >0.939184</td>\n",
       "      <td id=\"T_15def_row8_col1\" class=\"data row8 col1\" >0.890406</td>\n",
       "      <td id=\"T_15def_row8_col2\" class=\"data row8 col2\" >0.912988</td>\n",
       "      <td id=\"T_15def_row8_col3\" class=\"data row8 col3\" >0.972078</td>\n",
       "    </tr>\n",
       "    <tr>\n",
       "      <th id=\"T_15def_level0_row9\" class=\"row_heading level0 row9\" >electricity</th>\n",
       "      <td id=\"T_15def_row9_col0\" class=\"data row9 col0\" >0.936423</td>\n",
       "      <td id=\"T_15def_row9_col1\" class=\"data row9 col1\" >0.535321</td>\n",
       "      <td id=\"T_15def_row9_col2\" class=\"data row9 col2\" >0.561492</td>\n",
       "      <td id=\"T_15def_row9_col3\" class=\"data row9 col3\" >0.983827</td>\n",
       "    </tr>\n",
       "    <tr>\n",
       "      <th id=\"T_15def_level0_row10\" class=\"row_heading level0 row10\" >fire</th>\n",
       "      <td id=\"T_15def_row10_col0\" class=\"data row10 col0\" >0.995269</td>\n",
       "      <td id=\"T_15def_row10_col1\" class=\"data row10 col1\" >0.507937</td>\n",
       "      <td id=\"T_15def_row10_col2\" class=\"data row10 col2\" >0.513248</td>\n",
       "      <td id=\"T_15def_row10_col3\" class=\"data row10 col3\" >0.990540</td>\n",
       "    </tr>\n",
       "    <tr>\n",
       "      <th id=\"T_15def_level0_row11\" class=\"row_heading level0 row11\" >floods</th>\n",
       "      <td id=\"T_15def_row11_col0\" class=\"data row11 col0\" >0.941908</td>\n",
       "      <td id=\"T_15def_row11_col1\" class=\"data row11 col1\" >0.753254</td>\n",
       "      <td id=\"T_15def_row11_col2\" class=\"data row11 col2\" >0.817267</td>\n",
       "      <td id=\"T_15def_row11_col3\" class=\"data row11 col3\" >0.956210</td>\n",
       "    </tr>\n",
       "    <tr>\n",
       "      <th id=\"T_15def_level0_row12\" class=\"row_heading level0 row12\" >food</th>\n",
       "      <td id=\"T_15def_row12_col0\" class=\"data row12 col0\" >0.917577</td>\n",
       "      <td id=\"T_15def_row12_col1\" class=\"data row12 col1\" >0.787176</td>\n",
       "      <td id=\"T_15def_row12_col2\" class=\"data row12 col2\" >0.836581</td>\n",
       "      <td id=\"T_15def_row12_col3\" class=\"data row12 col3\" >0.943851</td>\n",
       "    </tr>\n",
       "    <tr>\n",
       "      <th id=\"T_15def_level0_row13\" class=\"row_heading level0 row13\" >hospitals</th>\n",
       "      <td id=\"T_15def_row13_col0\" class=\"data row13 col0\" >0.994659</td>\n",
       "      <td id=\"T_15def_row13_col1\" class=\"data row13 col1\" >0.507042</td>\n",
       "      <td id=\"T_15def_row13_col2\" class=\"data row13 col2\" >0.511204</td>\n",
       "      <td id=\"T_15def_row13_col3\" class=\"data row13 col3\" >0.989319</td>\n",
       "    </tr>\n",
       "    <tr>\n",
       "      <th id=\"T_15def_level0_row14\" class=\"row_heading level0 row14\" >infrastructure_related</th>\n",
       "      <td id=\"T_15def_row14_col0\" class=\"data row14 col0\" >0.566789</td>\n",
       "      <td id=\"T_15def_row14_col1\" class=\"data row14 col1\" >0.500820</td>\n",
       "      <td id=\"T_15def_row14_col2\" class=\"data row14 col2\" >0.484939</td>\n",
       "      <td id=\"T_15def_row14_col3\" class=\"data row14 col3\" >0.933018</td>\n",
       "    </tr>\n",
       "    <tr>\n",
       "      <th id=\"T_15def_level0_row15\" class=\"row_heading level0 row15\" >medical_help</th>\n",
       "      <td id=\"T_15def_row15_col0\" class=\"data row15 col0\" >0.784394</td>\n",
       "      <td id=\"T_15def_row15_col1\" class=\"data row15 col1\" >0.528946</td>\n",
       "      <td id=\"T_15def_row15_col2\" class=\"data row15 col2\" >0.534595</td>\n",
       "      <td id=\"T_15def_row15_col3\" class=\"data row15 col3\" >0.919591</td>\n",
       "    </tr>\n",
       "    <tr>\n",
       "      <th id=\"T_15def_level0_row16\" class=\"row_heading level0 row16\" >medical_products</th>\n",
       "      <td id=\"T_15def_row16_col0\" class=\"data row16 col0\" >0.840979</td>\n",
       "      <td id=\"T_15def_row16_col1\" class=\"data row16 col1\" >0.525160</td>\n",
       "      <td id=\"T_15def_row16_col2\" class=\"data row16 col2\" >0.536083</td>\n",
       "      <td id=\"T_15def_row16_col3\" class=\"data row16 col3\" >0.953921</td>\n",
       "    </tr>\n",
       "    <tr>\n",
       "      <th id=\"T_15def_level0_row17\" class=\"row_heading level0 row17\" >military</th>\n",
       "      <td id=\"T_15def_row17_col0\" class=\"data row17 col0\" >0.801342</td>\n",
       "      <td id=\"T_15def_row17_col1\" class=\"data row17 col1\" >0.529282</td>\n",
       "      <td id=\"T_15def_row17_col2\" class=\"data row17 col2\" >0.545817</td>\n",
       "      <td id=\"T_15def_row17_col3\" class=\"data row17 col3\" >0.965212</td>\n",
       "    </tr>\n",
       "    <tr>\n",
       "      <th id=\"T_15def_level0_row18\" class=\"row_heading level0 row18\" >missing_people</th>\n",
       "      <td id=\"T_15def_row18_col0\" class=\"data row18 col0\" >0.494736</td>\n",
       "      <td id=\"T_15def_row18_col1\" class=\"data row18 col1\" >0.500000</td>\n",
       "      <td id=\"T_15def_row18_col2\" class=\"data row18 col2\" >0.497354</td>\n",
       "      <td id=\"T_15def_row18_col3\" class=\"data row18 col3\" >0.989472</td>\n",
       "    </tr>\n",
       "    <tr>\n",
       "      <th id=\"T_15def_level0_row19\" class=\"row_heading level0 row19\" >money</th>\n",
       "      <td id=\"T_15def_row19_col0\" class=\"data row19 col0\" >0.987788</td>\n",
       "      <td id=\"T_15def_row19_col1\" class=\"data row19 col1\" >0.509202</td>\n",
       "      <td id=\"T_15def_row19_col2\" class=\"data row19 col2\" >0.511891</td>\n",
       "      <td id=\"T_15def_row19_col3\" class=\"data row19 col3\" >0.975587</td>\n",
       "    </tr>\n",
       "    <tr>\n",
       "      <th id=\"T_15def_level0_row20\" class=\"row_heading level0 row20\" >offer</th>\n",
       "      <td id=\"T_15def_row20_col0\" class=\"data row20 col0\" >0.497559</td>\n",
       "      <td id=\"T_15def_row20_col1\" class=\"data row20 col1\" >0.500000</td>\n",
       "      <td id=\"T_15def_row20_col2\" class=\"data row20 col2\" >0.498776</td>\n",
       "      <td id=\"T_15def_row20_col3\" class=\"data row20 col3\" >0.995117</td>\n",
       "    </tr>\n",
       "    <tr>\n",
       "      <th id=\"T_15def_level0_row21\" class=\"row_heading level0 row21\" >other_aid</th>\n",
       "      <td id=\"T_15def_row21_col0\" class=\"data row21 col0\" >0.715655</td>\n",
       "      <td id=\"T_15def_row21_col1\" class=\"data row21 col1\" >0.514251</td>\n",
       "      <td id=\"T_15def_row21_col2\" class=\"data row21 col2\" >0.495376</td>\n",
       "      <td id=\"T_15def_row21_col3\" class=\"data row21 col3\" >0.868935</td>\n",
       "    </tr>\n",
       "    <tr>\n",
       "      <th id=\"T_15def_level0_row22\" class=\"row_heading level0 row22\" >other_infrastructure</th>\n",
       "      <td id=\"T_15def_row22_col0\" class=\"data row22 col0\" >0.477096</td>\n",
       "      <td id=\"T_15def_row22_col1\" class=\"data row22 col1\" >0.499600</td>\n",
       "      <td id=\"T_15def_row22_col2\" class=\"data row22 col2\" >0.488089</td>\n",
       "      <td id=\"T_15def_row22_col3\" class=\"data row22 col3\" >0.953464</td>\n",
       "    </tr>\n",
       "    <tr>\n",
       "      <th id=\"T_15def_level0_row23\" class=\"row_heading level0 row23\" >other_weather</th>\n",
       "      <td id=\"T_15def_row23_col0\" class=\"data row23 col0\" >0.668861</td>\n",
       "      <td id=\"T_15def_row23_col1\" class=\"data row23 col1\" >0.519702</td>\n",
       "      <td id=\"T_15def_row23_col2\" class=\"data row23 col2\" >0.526245</td>\n",
       "      <td id=\"T_15def_row23_col3\" class=\"data row23 col3\" >0.952395</td>\n",
       "    </tr>\n",
       "    <tr>\n",
       "      <th id=\"T_15def_level0_row24\" class=\"row_heading level0 row24\" >refugees</th>\n",
       "      <td id=\"T_15def_row24_col0\" class=\"data row24 col0\" >0.764409</td>\n",
       "      <td id=\"T_15def_row24_col1\" class=\"data row24 col1\" >0.513575</td>\n",
       "      <td id=\"T_15def_row24_col2\" class=\"data row24 col2\" >0.519527</td>\n",
       "      <td id=\"T_15def_row24_col3\" class=\"data row24 col3\" >0.972688</td>\n",
       "    </tr>\n",
       "    <tr>\n",
       "      <th id=\"T_15def_level0_row25\" class=\"row_heading level0 row25\" >related</th>\n",
       "      <td id=\"T_15def_row25_col0\" class=\"data row25 col0\" >0.808034</td>\n",
       "      <td id=\"T_15def_row25_col1\" class=\"data row25 col1\" >0.504111</td>\n",
       "      <td id=\"T_15def_row25_col2\" class=\"data row25 col2\" >0.558018</td>\n",
       "      <td id=\"T_15def_row25_col3\" class=\"data row25 col3\" >0.814159</td>\n",
       "    </tr>\n",
       "    <tr>\n",
       "      <th id=\"T_15def_level0_row26\" class=\"row_heading level0 row26\" >request</th>\n",
       "      <td id=\"T_15def_row26_col0\" class=\"data row26 col0\" >0.878338</td>\n",
       "      <td id=\"T_15def_row26_col1\" class=\"data row26 col1\" >0.731039</td>\n",
       "      <td id=\"T_15def_row26_col2\" class=\"data row26 col2\" >0.777048</td>\n",
       "      <td id=\"T_15def_row26_col3\" class=\"data row26 col3\" >0.895789</td>\n",
       "    </tr>\n",
       "    <tr>\n",
       "      <th id=\"T_15def_level0_row27\" class=\"row_heading level0 row27\" >search_and_rescue</th>\n",
       "      <td id=\"T_15def_row27_col0\" class=\"data row27 col0\" >0.931075</td>\n",
       "      <td id=\"T_15def_row27_col1\" class=\"data row27 col1\" >0.521779</td>\n",
       "      <td id=\"T_15def_row27_col2\" class=\"data row27 col2\" >0.534853</td>\n",
       "      <td id=\"T_15def_row27_col3\" class=\"data row27 col3\" >0.973146</td>\n",
       "    </tr>\n",
       "    <tr>\n",
       "      <th id=\"T_15def_level0_row28\" class=\"row_heading level0 row28\" >security</th>\n",
       "      <td id=\"T_15def_row28_col0\" class=\"data row28 col0\" >0.491607</td>\n",
       "      <td id=\"T_15def_row28_col1\" class=\"data row28 col1\" >0.499922</td>\n",
       "      <td id=\"T_15def_row28_col2\" class=\"data row28 col2\" >0.495730</td>\n",
       "      <td id=\"T_15def_row28_col3\" class=\"data row28 col3\" >0.983064</td>\n",
       "    </tr>\n",
       "    <tr>\n",
       "      <th id=\"T_15def_level0_row29\" class=\"row_heading level0 row29\" >shelter</th>\n",
       "      <td id=\"T_15def_row29_col0\" class=\"data row29 col0\" >0.888910</td>\n",
       "      <td id=\"T_15def_row29_col1\" class=\"data row29 col1\" >0.682456</td>\n",
       "      <td id=\"T_15def_row29_col2\" class=\"data row29 col2\" >0.741000</td>\n",
       "      <td id=\"T_15def_row29_col3\" class=\"data row29 col3\" >0.938969</td>\n",
       "    </tr>\n",
       "    <tr>\n",
       "      <th id=\"T_15def_level0_row30\" class=\"row_heading level0 row30\" >shops</th>\n",
       "      <td id=\"T_15def_row30_col0\" class=\"data row30 col0\" >0.498093</td>\n",
       "      <td id=\"T_15def_row30_col1\" class=\"data row30 col1\" >0.500000</td>\n",
       "      <td id=\"T_15def_row30_col2\" class=\"data row30 col2\" >0.499045</td>\n",
       "      <td id=\"T_15def_row30_col3\" class=\"data row30 col3\" >0.996186</td>\n",
       "    </tr>\n",
       "    <tr>\n",
       "      <th id=\"T_15def_level0_row31\" class=\"row_heading level0 row31\" >storm</th>\n",
       "      <td id=\"T_15def_row31_col0\" class=\"data row31 col0\" >0.867244</td>\n",
       "      <td id=\"T_15def_row31_col1\" class=\"data row31 col1\" >0.768096</td>\n",
       "      <td id=\"T_15def_row31_col2\" class=\"data row31 col2\" >0.807990</td>\n",
       "      <td id=\"T_15def_row31_col3\" class=\"data row31 col3\" >0.945529</td>\n",
       "    </tr>\n",
       "    <tr>\n",
       "      <th id=\"T_15def_level0_row32\" class=\"row_heading level0 row32\" >tools</th>\n",
       "      <td id=\"T_15def_row32_col0\" class=\"data row32 col0\" >0.496720</td>\n",
       "      <td id=\"T_15def_row32_col1\" class=\"data row32 col1\" >0.500000</td>\n",
       "      <td id=\"T_15def_row32_col2\" class=\"data row32 col2\" >0.498354</td>\n",
       "      <td id=\"T_15def_row32_col3\" class=\"data row32 col3\" >0.993439</td>\n",
       "    </tr>\n",
       "    <tr>\n",
       "      <th id=\"T_15def_level0_row33\" class=\"row_heading level0 row33\" >transport</th>\n",
       "      <td id=\"T_15def_row33_col0\" class=\"data row33 col0\" >0.830150</td>\n",
       "      <td id=\"T_15def_row33_col1\" class=\"data row33 col1\" >0.536783</td>\n",
       "      <td id=\"T_15def_row33_col2\" class=\"data row33 col2\" >0.557272</td>\n",
       "      <td id=\"T_15def_row33_col3\" class=\"data row33 col3\" >0.959109</td>\n",
       "    </tr>\n",
       "    <tr>\n",
       "      <th id=\"T_15def_level0_row34\" class=\"row_heading level0 row34\" >water</th>\n",
       "      <td id=\"T_15def_row34_col0\" class=\"data row34 col0\" >0.922055</td>\n",
       "      <td id=\"T_15def_row34_col1\" class=\"data row34 col1\" >0.660485</td>\n",
       "      <td id=\"T_15def_row34_col2\" class=\"data row34 col2\" >0.725336</td>\n",
       "      <td id=\"T_15def_row34_col3\" class=\"data row34 col3\" >0.954379</td>\n",
       "    </tr>\n",
       "    <tr>\n",
       "      <th id=\"T_15def_level0_row35\" class=\"row_heading level0 row35\" >weather_related</th>\n",
       "      <td id=\"T_15def_row35_col0\" class=\"data row35 col0\" >0.879308</td>\n",
       "      <td id=\"T_15def_row35_col1\" class=\"data row35 col1\" >0.836802</td>\n",
       "      <td id=\"T_15def_row35_col2\" class=\"data row35 col2\" >0.854542</td>\n",
       "      <td id=\"T_15def_row35_col3\" class=\"data row35 col3\" >0.890906</td>\n",
       "    </tr>\n",
       "  </tbody>\n",
       "</table>\n"
      ],
      "text/plain": [
       "<pandas.io.formats.style.Styler at 0x7fdd548c56d0>"
      ]
     },
     "execution_count": 17,
     "metadata": {},
     "output_type": "execute_result"
    }
   ],
   "source": [
    "scores_table = utils.create_scores_table(y_test, y_pred)\n",
    "scores_table"
   ]
  },
  {
   "cell_type": "markdown",
   "metadata": {},
   "source": [
    "As I guessed, accuracy is highly driven by the `0` values as the number of data points labeled as `0` is very high (as a rough percentage 95 percentage). Therefore, f1-scores can be chosen as a fair scoring metric.  "
   ]
  },
  {
   "cell_type": "markdown",
   "metadata": {},
   "source": [
    "### 6. Improve your model\n",
    "Use grid search to find better parameters. "
   ]
  },
  {
   "cell_type": "code",
   "execution_count": null,
   "metadata": {},
   "outputs": [],
   "source": [
    "# current parameters\n",
    "pipeline.get_params()"
   ]
  },
  {
   "cell_type": "code",
   "execution_count": null,
   "metadata": {},
   "outputs": [],
   "source": [
    "# create model scorer\n",
    "model_scorer = make_scorer(utils.model_score)\n",
    "\n",
    "# parameters to optimise\n",
    "parameters = {\n",
    "    'clf__estimator__bootstrap': [True, False],\n",
    "    'clf__estimator__max_depth': [100, 200, None],\n",
    "    'clf__estimator__max_features': ['auto', 'sqrt'],\n",
    "    'clf__estimator__n_estimators': [100, 200, 250, 300],\n",
    "    'clf__estimator__min_samples_leaf': [2, 4],\n",
    "    'clf__estimator__min_samples_split': [5, 10],\n",
    "    'clf__estimator__n_estimators': [100, 200, 500]\n",
    "}\n",
    "\n",
    "# cross validation\n",
    "cv = GridSearchCV(pipeline, \n",
    "    param_grid=parameters,\n",
    "    scoring=model_scorer, \n",
    "    verbose=3\n",
    "    )\n",
    "\n",
    "cv.fit(X_train, y_train)"
   ]
  },
  {
   "cell_type": "markdown",
   "metadata": {},
   "source": [
    "### 7. Test your model\n",
    "Show the accuracy, precision, and recall of the tuned model.  \n",
    "\n",
    "Since this project focuses on code quality, process, and  pipelines, there is no minimum performance metric needed to pass. However, make sure to fine tune your models for accuracy, precision and recall to make your project stand out - especially for your portfolio!"
   ]
  },
  {
   "cell_type": "code",
   "execution_count": 21,
   "metadata": {},
   "outputs": [
    {
     "name": "stdout",
     "output_type": "stream",
     "text": [
      "Pipeline(steps=[('vect',\n",
      "                 CountVectorizer(tokenizer=<function tokenize at 0x7f14be5e1940>)),\n",
      "                ('tfidf', TfidfTransformer()),\n",
      "                ('clf',\n",
      "                 MultiOutputClassifier(estimator=RandomForestClassifier(bootstrap=False,\n",
      "                                                                        min_samples_leaf=2,\n",
      "                                                                        min_samples_split=10),\n",
      "                                       n_jobs=-1))])\n",
      "0.5858000713775421\n"
     ]
    }
   ],
   "source": [
    "print(cv.best_estimator_)\n",
    "print(cv.best_score_)"
   ]
  },
  {
   "cell_type": "markdown",
   "metadata": {},
   "source": [
    "This did not improve the model scores! must look for a different method."
   ]
  },
  {
   "cell_type": "markdown",
   "metadata": {},
   "source": [
    "### 8. Try improving your model further. Here are a few ideas:\n",
    "* try other machine learning algorithms\n",
    "* add other features besides the TF-IDF"
   ]
  },
  {
   "cell_type": "code",
   "execution_count": 11,
   "metadata": {},
   "outputs": [],
   "source": [
    "from sklearn.neighbors import KNeighborsClassifier\n",
    "from sklearn.naive_bayes import GaussianNB\n",
    "from sklearn.svm import SVC\n",
    "from sklearn.neural_network import MLPClassifier\n",
    "from sklearn.multiclass import OneVsRestClassifier\n",
    "from sklearn import model_selection\n",
    "\n",
    "ml_models = {\n",
    "    'KNN' : KNeighborsClassifier(),\n",
    "    'SVM': OneVsRestClassifier(SVC(kernel='rbf')),\n",
    "    'NN': MLPClassifier()\n",
    "}"
   ]
  },
  {
   "cell_type": "code",
   "execution_count": null,
   "metadata": {},
   "outputs": [],
   "source": [
    "for name, model in ml_models.items():\n",
    "    kfold = model_selection.KFold()\n",
    "    cv_pipeline = Pipeline([\n",
    "        ('vect', CountVectorizer(tokenizer=tokenize)),\n",
    "        ('tfidf', TfidfTransformer()),\n",
    "        ('clf', MultiOutputClassifier(model, n_jobs=1)) ])\n",
    "    try:\n",
    "        cv_results = model_selection.cross_val_score(cv_pipeline, X_train, y_train, cv=kfold, scoring=model_scorer)\n",
    "        print(f'{name:5s}: {cv_results.mean():.5f} ± {cv_results.std():.5f}')\n",
    "    except:\n",
    "        print(f'{name}: Error!')\n",
    "        pass\n"
   ]
  },
  {
   "cell_type": "markdown",
   "metadata": {},
   "source": [
    "Interesting results! f1-scores are as follows,\n",
    " - `KNeighborsClassifier()` : 0.56259 ± 0.02197\n",
    " - `OneVsRestClassifier(SVC(kernel='rbf'))` : 0.63631 ± 0.00341\n",
    " - `MLPClassifier()`: 0.65270 ± 0.00195\n",
    "\n",
    "Both SVC and MLP performs better than Random Forest even with the default parameters. Good candidates for further studies!\n",
    "\n",
    "Things to keep in mind / optimise / learn further\n",
    " - SVC only works with `n_jobs=1`\n",
    " - some folds only contain a single label. This needs to be rectified. Our data set is not evenly distributed. Therefore, stratified data splitting is recommended (Now this is not easy since our data set is multi-labeled)\n",
    " - Some estimators do not accept sparse matrix (returned from tfidf). Y may need to convert in to an array / dense matrix \n",
    " - SVC does not work without OneVsRestClassifier. why?\n",
    " - It's good to optimise your model, but also look for ways to optimise data. quality data will improve the score\n",
    "\n",
    "read these for more details\n",
    " - [How to use sklearn train_test_split to stratify data for multi-label classification?](https://datascience.stackexchange.com/questions/45174/how-to-use-sklearn-train-test-split-to-stratify-data-for-multi-label-classificat)\n",
    " - [Scikit-Learn's Pipeline: A sparse matrix was passed, but dense data is required](https://stackoverflow.com/questions/28384680/scikit-learns-pipeline-a-sparse-matrix-was-passed-but-dense-data-is-required)\n",
    " - [UserWarning: Label not :NUMBER: is present in all training examples](https://stackoverflow.com/questions/42821315/userwarning-label-not-number-is-present-in-all-training-examples/42956097)\n",
    " - [Scikit-Learn: Label not x is present in all training examples](https://stackoverflow.com/questions/34561554/scikit-learn-label-not-x-is-present-in-all-training-examples)\n",
    " - [Multi-Label Classification in Python](http://scikit.ml/index.html)\n"
   ]
  },
  {
   "cell_type": "markdown",
   "metadata": {},
   "source": [
    "### 9. Export your model as a pickle file"
   ]
  },
  {
   "cell_type": "code",
   "execution_count": 20,
   "metadata": {},
   "outputs": [],
   "source": [
    "pickle.dump(pipeline, open('rfc_auto.pkl', 'wb'))"
   ]
  },
  {
   "cell_type": "markdown",
   "metadata": {},
   "source": [
    "### 10. Use this notebook to complete `train.py`\n",
    "Use the template file attached in the Resources folder to write a script that runs the steps above to create a database and export a model based on a new dataset specified by the user."
   ]
  }
 ],
 "metadata": {
  "interpreter": {
   "hash": "3125068e2b0436e816b02cd596752c69e631daadbad87469714f9c005c7c3705"
  },
  "kernelspec": {
   "display_name": "Python 3.9.7 64-bit ('base': conda)",
   "name": "python3"
  },
  "language_info": {
   "codemirror_mode": {
    "name": "ipython",
    "version": 3
   },
   "file_extension": ".py",
   "mimetype": "text/x-python",
   "name": "python",
   "nbconvert_exporter": "python",
   "pygments_lexer": "ipython3",
   "version": "3.9.7"
  }
 },
 "nbformat": 4,
 "nbformat_minor": 2
}
